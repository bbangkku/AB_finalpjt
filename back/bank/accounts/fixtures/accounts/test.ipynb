{
 "cells": [
  {
   "cell_type": "code",
   "execution_count": 1,
   "metadata": {},
   "outputs": [],
   "source": [
    "import json\n",
    "import pandas as pd\n",
    "import numpy as np\n",
    "import matplotlib.pyplot as plt\n",
    "from sklearn.cluster import KMeans\n",
    "from sklearn.datasets import make_blobs\n",
    "from collections import Counter\n"
   ]
  },
  {
   "cell_type": "code",
   "execution_count": 2,
   "metadata": {},
   "outputs": [],
   "source": [
    "\n",
    "user_data_json = open('C:/Users/SSAFY/Desktop/21321/AB_finalpjt/back/bank/accounts/fixtures/accounts/user_data.json', encoding='UTF8')\n",
    "user_data_list = json.load(user_data_json)\n",
    "product_json = open('C:/Users/SSAFY/Desktop/21321/AB_finalpjt/back/bank/accounts/fixtures/accounts/depo_info_data326.json', encoding='UTF8')\n",
    "product_list = json.load(product_json)\n",
    "\n"
   ]
  },
  {
   "cell_type": "code",
   "execution_count": null,
   "metadata": {},
   "outputs": [],
   "source": []
  },
  {
   "cell_type": "code",
   "execution_count": 3,
   "metadata": {},
   "outputs": [],
   "source": [
    "\n",
    "df = pd.DataFrame(product_list)\n",
    "df_user = pd.DataFrame(user_data_list)\n",
    "data = df_user[['age','gender','salary','money']]\n"
   ]
  },
  {
   "cell_type": "code",
   "execution_count": 6,
   "metadata": {},
   "outputs": [
    {
     "name": "stderr",
     "output_type": "stream",
     "text": [
      "C:\\Users\\SSAFY\\anaconda3\\lib\\site-packages\\sklearn\\cluster\\_kmeans.py:870: FutureWarning: The default value of `n_init` will change from 10 to 'auto' in 1.4. Set the value of `n_init` explicitly to suppress the warning\n",
      "  warnings.warn(\n",
      "C:\\Users\\SSAFY\\anaconda3\\lib\\site-packages\\sklearn\\cluster\\_kmeans.py:1382: UserWarning: KMeans is known to have a memory leak on Windows with MKL, when there are less chunks than available threads. You can avoid it by setting the environment variable OMP_NUM_THREADS=4.\n",
      "  warnings.warn(\n"
     ]
    },
    {
     "data": {
      "text/html": [
       "<style>#sk-container-id-2 {color: black;background-color: white;}#sk-container-id-2 pre{padding: 0;}#sk-container-id-2 div.sk-toggleable {background-color: white;}#sk-container-id-2 label.sk-toggleable__label {cursor: pointer;display: block;width: 100%;margin-bottom: 0;padding: 0.3em;box-sizing: border-box;text-align: center;}#sk-container-id-2 label.sk-toggleable__label-arrow:before {content: \"▸\";float: left;margin-right: 0.25em;color: #696969;}#sk-container-id-2 label.sk-toggleable__label-arrow:hover:before {color: black;}#sk-container-id-2 div.sk-estimator:hover label.sk-toggleable__label-arrow:before {color: black;}#sk-container-id-2 div.sk-toggleable__content {max-height: 0;max-width: 0;overflow: hidden;text-align: left;background-color: #f0f8ff;}#sk-container-id-2 div.sk-toggleable__content pre {margin: 0.2em;color: black;border-radius: 0.25em;background-color: #f0f8ff;}#sk-container-id-2 input.sk-toggleable__control:checked~div.sk-toggleable__content {max-height: 200px;max-width: 100%;overflow: auto;}#sk-container-id-2 input.sk-toggleable__control:checked~label.sk-toggleable__label-arrow:before {content: \"▾\";}#sk-container-id-2 div.sk-estimator input.sk-toggleable__control:checked~label.sk-toggleable__label {background-color: #d4ebff;}#sk-container-id-2 div.sk-label input.sk-toggleable__control:checked~label.sk-toggleable__label {background-color: #d4ebff;}#sk-container-id-2 input.sk-hidden--visually {border: 0;clip: rect(1px 1px 1px 1px);clip: rect(1px, 1px, 1px, 1px);height: 1px;margin: -1px;overflow: hidden;padding: 0;position: absolute;width: 1px;}#sk-container-id-2 div.sk-estimator {font-family: monospace;background-color: #f0f8ff;border: 1px dotted black;border-radius: 0.25em;box-sizing: border-box;margin-bottom: 0.5em;}#sk-container-id-2 div.sk-estimator:hover {background-color: #d4ebff;}#sk-container-id-2 div.sk-parallel-item::after {content: \"\";width: 100%;border-bottom: 1px solid gray;flex-grow: 1;}#sk-container-id-2 div.sk-label:hover label.sk-toggleable__label {background-color: #d4ebff;}#sk-container-id-2 div.sk-serial::before {content: \"\";position: absolute;border-left: 1px solid gray;box-sizing: border-box;top: 0;bottom: 0;left: 50%;z-index: 0;}#sk-container-id-2 div.sk-serial {display: flex;flex-direction: column;align-items: center;background-color: white;padding-right: 0.2em;padding-left: 0.2em;position: relative;}#sk-container-id-2 div.sk-item {position: relative;z-index: 1;}#sk-container-id-2 div.sk-parallel {display: flex;align-items: stretch;justify-content: center;background-color: white;position: relative;}#sk-container-id-2 div.sk-item::before, #sk-container-id-2 div.sk-parallel-item::before {content: \"\";position: absolute;border-left: 1px solid gray;box-sizing: border-box;top: 0;bottom: 0;left: 50%;z-index: -1;}#sk-container-id-2 div.sk-parallel-item {display: flex;flex-direction: column;z-index: 1;position: relative;background-color: white;}#sk-container-id-2 div.sk-parallel-item:first-child::after {align-self: flex-end;width: 50%;}#sk-container-id-2 div.sk-parallel-item:last-child::after {align-self: flex-start;width: 50%;}#sk-container-id-2 div.sk-parallel-item:only-child::after {width: 0;}#sk-container-id-2 div.sk-dashed-wrapped {border: 1px dashed gray;margin: 0 0.4em 0.5em 0.4em;box-sizing: border-box;padding-bottom: 0.4em;background-color: white;}#sk-container-id-2 div.sk-label label {font-family: monospace;font-weight: bold;display: inline-block;line-height: 1.2em;}#sk-container-id-2 div.sk-label-container {text-align: center;}#sk-container-id-2 div.sk-container {/* jupyter's `normalize.less` sets `[hidden] { display: none; }` but bootstrap.min.css set `[hidden] { display: none !important; }` so we also need the `!important` here to be able to override the default hidden behavior on the sphinx rendered scikit-learn.org. See: https://github.com/scikit-learn/scikit-learn/issues/21755 */display: inline-block !important;position: relative;}#sk-container-id-2 div.sk-text-repr-fallback {display: none;}</style><div id=\"sk-container-id-2\" class=\"sk-top-container\"><div class=\"sk-text-repr-fallback\"><pre>KMeans(n_clusters=4)</pre><b>In a Jupyter environment, please rerun this cell to show the HTML representation or trust the notebook. <br />On GitHub, the HTML representation is unable to render, please try loading this page with nbviewer.org.</b></div><div class=\"sk-container\" hidden><div class=\"sk-item\"><div class=\"sk-estimator sk-toggleable\"><input class=\"sk-toggleable__control sk-hidden--visually\" id=\"sk-estimator-id-2\" type=\"checkbox\" checked><label for=\"sk-estimator-id-2\" class=\"sk-toggleable__label sk-toggleable__label-arrow\">KMeans</label><div class=\"sk-toggleable__content\"><pre>KMeans(n_clusters=4)</pre></div></div></div></div></div>"
      ],
      "text/plain": [
       "KMeans(n_clusters=4)"
      ]
     },
     "execution_count": 6,
     "metadata": {},
     "output_type": "execute_result"
    }
   ],
   "source": [
    "kmeans = KMeans(n_clusters=4)\n",
    "kmeans.fit(data)\n"
   ]
  },
  {
   "cell_type": "code",
   "execution_count": 9,
   "metadata": {},
   "outputs": [
    {
     "name": "stdout",
     "output_type": "stream",
     "text": [
      "[[5.36451613e+01 1.59274194e+00 1.12694355e+09 1.11238710e+09]\n",
      " [5.24608696e+01 1.50000000e+00 1.12863913e+09 3.58156522e+08]\n",
      " [4.64210526e+01 1.41295547e+00 3.59348178e+08 1.10245749e+09]\n",
      " [5.03927273e+01 1.46545455e+00 3.93360000e+08 3.71709091e+08]]\n"
     ]
    }
   ],
   "source": [
    "\n",
    "\n",
    "\n",
    "labels = kmeans.labels_\n",
    "centroids = kmeans.cluster_centers_\n"
   ]
  },
  {
   "cell_type": "code",
   "execution_count": 8,
   "metadata": {},
   "outputs": [
    {
     "name": "stdout",
     "output_type": "stream",
     "text": [
      "[0 3 0 1 0 1 1 0 1 0 3 1 0 2 0 2 0 3 0 0 2 0 0 3 3 2 1 2 3 2 3 3 0 3 3 0 0\n",
      " 3 0 3 3 3 1 0 3 2 0 1 0 1 0 3 2 0 2 3 2 3 0 3 3 1 0 2 2 2 0 2 2 3 2 3 2 1\n",
      " 2 1 1 2 0 3 2 3 2 0 1 3 0 0 0 2 2 1 2 1 0 3 1 2 1 2 0 0 1 0 3 0 1 3 1 1 0\n",
      " 1 2 2 0 0 3 0 2 1 1 3 2 3 3 2 3 2 1 0 0 3 1 3 2 1 1 3 3 1 2 0 0 2 1 0 3 2\n",
      " 0 1 0 2 0 3 3 1 1 0 0 1 0 2 1 0 2 1 2 0 1 2 0 1 2 0 3 0 3 2 2 3 0 0 3 2 0\n",
      " 1 0 0 1 2 3 2 3 1 1 1 0 2 2 3 2 2 2 0 3 3 2 1 2 2 1 1 0 2 0 2 3 1 0 2 0 2\n",
      " 3 0 1 2 1 3 1 1 2 1 3 3 2 2 1 0 1 1 1 1 0 1 2 0 0 2 0 2 3 2 3 1 2 1 3 0 0\n",
      " 3 1 1 3 1 2 3 3 2 1 0 2 1 2 2 2 2 1 2 3 1 0 2 2 3 3 3 3 1 2 0 0 3 2 0 1 2\n",
      " 0 3 1 3 0 3 2 0 1 2 0 1 2 1 3 2 0 3 3 2 0 1 3 0 1 1 2 0 3 0 0 0 3 1 0 3 0\n",
      " 0 2 3 3 3 3 3 3 1 2 0 1 3 1 1 2 3 1 2 0 1 2 3 3 1 1 3 2 2 0 3 1 1 1 2 1 2\n",
      " 0 3 2 0 2 3 1 2 3 3 1 3 0 1 0 0 1 3 2 3 2 3 1 0 2 2 3 0 1 2 3 0 3 0 3 1 1\n",
      " 2 0 3 0 3 0 0 3 0 0 1 2 3 0 3 0 0 2 2 1 0 0 2 3 1 0 2 1 1 2 1 2 3 2 3 0 3\n",
      " 2 3 1 1 2 1 3 2 3 2 1 2 3 1 2 1 2 0 1 2 2 1 3 2 0 3 3 3 1 1 0 1 2 3 3 0 2\n",
      " 1 0 1 1 3 1 2 0 3 0 3 3 0 3 1 3 3 2 2 3 0 1 0 3 2 2 1 0 3 1 0 3 2 0 2 1 2\n",
      " 0 3 2 1 0 0 1 2 3 2 3 1 1 3 1 2 3 0 0 0 1 2 3 0 0 1 2 0 0 2 1 3 3 0 3 1 0\n",
      " 2 3 2 2 1 0 3 2 0 3 3 3 3 3 1 3 3 2 1 1 3 2 0 3 3 1 1 1 3 2 0 2 2 1 2 3 3\n",
      " 2 0 3 1 3 3 3 3 0 0 0 0 0 0 2 3 3 0 3 2 0 0 2 1 2 1 3 3 3 3 1 0 1 2 1 3 3\n",
      " 1 0 3 0 2 3 2 3 2 1 3 0 3 2 3 0 1 0 0 0 2 3 0 1 3 1 3 3 0 2 0 2 1 1 3 2 1\n",
      " 3 2 0 1 3 2 0 2 2 3 2 1 0 3 3 0 0 0 1 1 2 0 2 0 2 3 0 3 0 1 2 0 0 3 3 2 2\n",
      " 3 0 0 0 3 3 3 2 2 3 2 0 1 2 1 3 2 2 2 0 1 3 0 1 3 1 3 3 3 0 2 3 3 3 1 1 3\n",
      " 1 0 2 1 3 2 0 0 0 3 0 0 3 3 1 1 3 0 0 0 1 1 3 0 2 2 1 0 3 2 2 1 2 3 2 0 0\n",
      " 3 2 3 1 1 3 0 3 2 1 1 3 0 2 0 0 2 1 1 3 0 3 3 1 0 3 1 3 1 0 1 1 3 2 1 1 3\n",
      " 2 1 0 0 2 3 1 1 1 1 2 0 1 2 3 2 3 1 2 2 1 0 3 2 3 0 0 2 0 2 2 2 2 2 3 2 3\n",
      " 1 2 2 1 3 1 3 3 2 2 1 0 0 3 2 1 2 3 1 2 1 2 0 1 2 2 0 2 0 3 3 2 3 2 3 1 0\n",
      " 1 1 3 0 3 0 2 1 1 0 0 1 3 0 0 0 0 2 0 1 2 1 3 0 3 1 3 1 0 3 3 0 3 0 2 0 2\n",
      " 3 3 3 1 2 2 0 2 3 2 1 0 3 3 0 0 2 1 1 3 1 3 3 3 0 0 1 3 2 3 0 3 1 3 0 3 3\n",
      " 3 0 2 1 0 3 2 1 3 1 2 3 1 1 3 2 1 3 3 0 1 3 2 2 3 2 2 0 2 0 2 2 0 2 0 1 3\n",
      " 1]\n"
     ]
    }
   ],
   "source": [
    "\n",
    "df_user['cluster_label'] = labels\n",
    "print(labels)"
   ]
  },
  {
   "cell_type": "code",
   "execution_count": null,
   "metadata": {},
   "outputs": [],
   "source": [
    "\n",
    "# print(df_user['cluster_label']==1)\n",
    "# 클러스터는 4으로 정했고,,  0~4까지 User가 어느구간에 속하는지 보고.\n",
    "# cluster_label이 0~3 (0,1,2,3) 인 값들의 financial_products 파악하기 !!!!\n",
    "cluster_products = {}\n",
    "for cluster  in range(k):\n",
    "  # 파악했으면 뭐가 가장 많은지 확인해야지 !!!!\n",
    "  financial_products = df_user.loc[df_user['cluster_label'] == 1, 'financial_products']\n",
    "  \n",
    "  # 리스트를 딕셔너리로 변환하여 상품 개수 세기\n",
    "  product_count = dict(Counter(list(financial_products)))\n",
    "\n",
    "  # 딕셔너리의 key(상품)에 value(카운트) 넣어주자 \n",
    "  cluster_products[cluster] = product_count\n",
    "\n",
    "\n",
    "# 내가 속하는 구간어떻게구하지 ?...\n",
    "\n",
    "\n",
    "# 상위 3개 출력 >> 그게 추천 (처음은 0이나옴, (상품가입을안한사람이 더 많으니까))\n",
    "for product, count in cluster_products.items():\n",
    "  # 개수가 많은 순서로 정렬하여 상품 순서대로 나열\n",
    "  sorted_products = sorted(product_count.items(), key=lambda x: x[1], reverse=True)\n",
    "  top_products = [product for product, count in sorted_products[:3]]\n",
    "  cluster_products[cluster] = top_products\n",
    "\n",
    "# 이제 출력하자\n",
    "for cluster, recommended_products in cluster_products.items():\n",
    "    print(f\"Cluster {cluster}: {recommended_products}\")\n",
    "\n"
   ]
  },
  {
   "cell_type": "code",
   "execution_count": null,
   "metadata": {},
   "outputs": [],
   "source": []
  },
  {
   "cell_type": "code",
   "execution_count": null,
   "metadata": {},
   "outputs": [],
   "source": []
  },
  {
   "cell_type": "code",
   "execution_count": null,
   "metadata": {},
   "outputs": [],
   "source": []
  },
  {
   "cell_type": "code",
   "execution_count": null,
   "metadata": {},
   "outputs": [],
   "source": []
  },
  {
   "cell_type": "code",
   "execution_count": null,
   "metadata": {},
   "outputs": [],
   "source": []
  },
  {
   "cell_type": "code",
   "execution_count": null,
   "metadata": {},
   "outputs": [],
   "source": []
  },
  {
   "cell_type": "code",
   "execution_count": null,
   "metadata": {},
   "outputs": [],
   "source": []
  },
  {
   "cell_type": "code",
   "execution_count": null,
   "metadata": {},
   "outputs": [],
   "source": []
  },
  {
   "cell_type": "code",
   "execution_count": null,
   "metadata": {},
   "outputs": [],
   "source": []
  }
 ],
 "metadata": {
  "kernelspec": {
   "display_name": "Python 3 (ipykernel)",
   "language": "python",
   "name": "python3"
  },
  "language_info": {
   "codemirror_mode": {
    "name": "ipython",
    "version": 3
   },
   "file_extension": ".py",
   "mimetype": "text/x-python",
   "name": "python",
   "nbconvert_exporter": "python",
   "pygments_lexer": "ipython3",
   "version": "3.10.9"
  }
 },
 "nbformat": 4,
 "nbformat_minor": 2
}
